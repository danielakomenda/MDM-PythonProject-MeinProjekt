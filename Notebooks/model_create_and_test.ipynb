{
 "cells": [
  {
   "cell_type": "code",
   "execution_count": 1,
   "id": "7bfe82ae-281c-4183-ace0-7ae5723db3c4",
   "metadata": {},
   "outputs": [],
   "source": [
    "import pickle\n",
    "from pathlib import Path\n",
    "from types import SimpleNamespace\n",
    "\n",
    "import pandas as pd\n",
    "import numpy as np\n",
    "import matplotlib.pyplot as plt\n",
    "import sklearn\n",
    "import sklearn.metrics\n",
    "import sklearn.cross_decomposition\n",
    "import sklearn.linear_model\n",
    "import statsmodels\n",
    "import statsmodels.api\n",
    "import warnings\n",
    "from statsmodels.tools.sm_exceptions import ValueWarning, ConvergenceWarning"
   ]
  },
  {
   "cell_type": "code",
   "execution_count": 2,
   "id": "084a7f68-d9fd-4d84-a514-83189b15b029",
   "metadata": {},
   "outputs": [],
   "source": [
    "import sys\n",
    "sys.path.append(\"/Users/missd/Desktop/6. Semester/6. Model Deployment Maintenance/MDM - Python Projekt/src/\")\n",
    "import mdm_python.data_preparation.db_entsoe as db_entsoe"
   ]
  },
  {
   "cell_type": "code",
   "execution_count": 3,
   "id": "af16a4fe-cdce-40a4-9527-d954e14ff5bf",
   "metadata": {},
   "outputs": [],
   "source": [
    "model_directory = Path(\"../data/models\").resolve()"
   ]
  },
  {
   "cell_type": "code",
   "execution_count": 4,
   "id": "ac4ca8f8-0a34-45a6-934d-ba8ee425da80",
   "metadata": {},
   "outputs": [],
   "source": [
    "energy_data = db_entsoe.extract_daily_energy()"
   ]
  },
  {
   "cell_type": "markdown",
   "id": "8db850b5-f94c-4adc-a6e0-8eea70cc0e02",
   "metadata": {},
   "source": [
    "## Prepare Data"
   ]
  },
  {
   "cell_type": "code",
   "execution_count": 5,
   "id": "83af5864-4b7b-401c-a286-8993146f2c97",
   "metadata": {},
   "outputs": [],
   "source": [
    "def prepare_raw_data(data: pd.DataFrame) -> dict:\n",
    "    \"\"\"\n",
    "    Transform the data to log-scale with an offset to handle the high number of zeros\n",
    "    The offset will change the skew-of the histogram close to 0\n",
    "    \"\"\"\n",
    "    data = data.drop(columns=\"total\")\n",
    "    \n",
    "    offset = dict(\n",
    "        wind = 1.4,\n",
    "        solar = 6,\n",
    "        water_reservoir = 900,\n",
    "        water_river = 150,\n",
    "        water_pump = 700\n",
    "    )\n",
    "    data_transformed = data.apply(lambda col: np.log10(col+offset[col.name]) if col.name in offset else col)\n",
    "    data_transformed = data_transformed.resample(\"W\").mean()\n",
    "    \n",
    "    \"\"\"\n",
    "    Create new DataFrame with the missing days in the index and NaN-Values\n",
    "    Fill NaN-Values with the average between the previous and the next value\n",
    "    \"\"\"\n",
    "    index_date = pd.date_range(start=data_transformed.index[0], end=data_transformed.index[-1], freq='W')\n",
    "    data_fixed = data_transformed.reindex(index_date)\n",
    "    data_fixed = data_fixed.interpolate(method='linear')\n",
    "    data_fixed = data_fixed.dropna()\n",
    "    assert data_fixed.index.freq is not None, \"Data must still be fixed-frequency\"\n",
    "\n",
    "    dict_of_transformed_data = dict()\n",
    "\n",
    "    for col_name in data_fixed.columns:\n",
    "        values = SimpleNamespace(\n",
    "            name = col_name,\n",
    "            transformed_values = data_fixed[col_name],\n",
    "            offset = offset.get(col_name),\n",
    "        )\n",
    "        dict_of_transformed_data[col_name] = values\n",
    "    \n",
    "    return dict_of_transformed_data"
   ]
  },
  {
   "cell_type": "markdown",
   "id": "bdba192f-c2cc-4bb5-9a2b-9d8e8162f623",
   "metadata": {},
   "source": [
    "________________"
   ]
  },
  {
   "cell_type": "markdown",
   "id": "9136c298-bfc1-4dd1-a121-eb4517b69188",
   "metadata": {},
   "source": [
    "## Find best Meta-Parameters"
   ]
  },
  {
   "cell_type": "code",
   "execution_count": 6,
   "id": "f46da4e5-54ef-4f95-b2d3-2e540dad8484",
   "metadata": {},
   "outputs": [],
   "source": [
    "def get_acf_and_pacf_lags(name:str, data:pd.Series, plot_acf_pacf=False) ->tuple:\n",
    "    \"\"\"\n",
    "    Compute the significant ACF- and PACF-Lags as a base for the modelling process\n",
    "    If plot_acf_pacf is True, the ACF- and PACF-Lags are plotted\n",
    "    \"\"\"\n",
    "    acf_data = statsmodels.tsa.stattools.acf(data, nlags=51)\n",
    "    pacf_data= statsmodels.tsa.stattools.pacf(data, nlags=51)\n",
    "\n",
    "    if plot_acf_pacf:\n",
    "        # Create ACF plot\n",
    "        plt.figure(figsize=(12, 6))\n",
    "        plt.stem(acf_data)\n",
    "        #plt.fill_between(range(len(acf_data)), -0.2, 0.2, color='red', alpha=0.2)  # Add shaded region for significance level\n",
    "        plt.axhspan(-0.2, 0.2, color='red', alpha=0.2)\n",
    "        plt.title(f'Autocorrelation Function (ACF) of {name}')\n",
    "        plt.xlabel('Lag')\n",
    "        plt.ylabel('ACF')\n",
    "        plt.show()\n",
    "        \n",
    "        # Create PACF plot\n",
    "        plt.figure(figsize=(12, 6))\n",
    "        plt.stem(pacf_data)\n",
    "        plt.axhspan(-0.2, 0.2, color='red', alpha=0.2)\n",
    "        #plt.fill_between(range(len(pacf_data)), -0.2, 0.2, color='red', alpha=0.2)  # Add shaded region for significance level\n",
    "        plt.title(f'Partial Autocorrelation Function (PACF) of {name}')\n",
    "        plt.xlabel('Lag')\n",
    "        plt.ylabel('PACF')\n",
    "        plt.show()\n",
    "    \n",
    "    significant_acf_lags = [lag for lag, acf_value in enumerate(acf_data) if abs(acf_value) > 0.2]\n",
    "    significant_pacf_lags = [lag for lag, pacf_value in enumerate(pacf_data) if abs(pacf_value) > 0.2]\n",
    "    \n",
    "    return len(significant_acf_lags)-1, len(significant_pacf_lags)-1"
   ]
  },
  {
   "cell_type": "code",
   "execution_count": 7,
   "id": "533313c3-2cec-4e78-a9df-9f51236a987a",
   "metadata": {},
   "outputs": [],
   "source": [
    "def SARIMAX_model(data, p, d, q, trend):\n",
    "    \n",
    "    model = statsmodels.api.tsa.statespace.SARIMAX(\n",
    "        data,\n",
    "        trend=trend,\n",
    "        order=(p,d,q),\n",
    "        seasonal_order=(1,1,0,52),\n",
    "    )\n",
    "    model_result = model.fit(disp=False)\n",
    "\n",
    "    return model_result"
   ]
  },
  {
   "cell_type": "code",
   "execution_count": 8,
   "id": "ea4833a0-c615-4f33-9e61-94525a25b494",
   "metadata": {},
   "outputs": [],
   "source": [
    "def check_significance_of_coefficients(fitted_model, significance_level=0.5) -> bool:\n",
    "    \"\"\"\n",
    "    Check, if the computed coefficients are significant\n",
    "    \"\"\"\n",
    "    p_values = fitted_model.pvalues\n",
    "    for i, p_value in enumerate(p_values[1:]):\n",
    "        if not (abs(p_value) < significance_level):\n",
    "            return False\n",
    "        return True"
   ]
  },
  {
   "cell_type": "code",
   "execution_count": 9,
   "id": "a0e6fc9d-b5c6-4dfe-8673-617e6f6ab828",
   "metadata": {},
   "outputs": [],
   "source": [
    "def find_best_metaparams(name, data, acf_lag, pacf_lag) -> dict:\n",
    "    \"\"\"\n",
    "    Try different Meta-Parameters to check, if the AIC is becoming better\n",
    "    Return the best model-meta-parameters\n",
    "    \"\"\"\n",
    "    best_metaparams = None\n",
    "\n",
    "    lowest_aic = 1000000\n",
    "    trend = ['c', 't']\n",
    "\n",
    "    print(acf_lag, pacf_lag)\n",
    "\n",
    "    stop = 0\n",
    "    for p in range(acf_lag+1):\n",
    "        for q in range(pacf_lag+1):\n",
    "            for d in range(2):\n",
    "                for t in trend:\n",
    "                    print(f'lowest AIC: {lowest_aic}')\n",
    "                    print(f'SARIMA for {name}: ({p}, {d}, {q}), {t}')\n",
    "\n",
    "                    # No Params with Warnings will be stored\n",
    "                    with warnings.catch_warnings():\n",
    "                        warnings.simplefilter(\"error\", (ValueWarning, ConvergenceWarning, UserWarning))\n",
    "                        try:\n",
    "                            fit_result = SARIMAX_model(data, p=p, d=d, q=q, trend=t)\n",
    "                        except (ValueWarning, ConvergenceWarning, UserWarning) as e:\n",
    "                            print(f\"Warning {e.__class__.__name__} encountered, skipping this configuration.\")\n",
    "                            continue\n",
    "                    \n",
    "                    if not check_significance_of_coefficients(fit_result):\n",
    "                        print(\"at least one coefficient is not significant\")\n",
    "                        continue\n",
    "                        \n",
    "                    if fit_result.aic<lowest_aic:\n",
    "                        lowest_aic=fit_result.aic\n",
    "                        best_metaparams = dict(\n",
    "                            name=name,\n",
    "                            p=p,\n",
    "                            d=d,\n",
    "                            q=q,\n",
    "                            trend=t,\n",
    "                            aic=fit_result.aic,\n",
    "                        )\n",
    "                    else:    \n",
    "                        stop +=1\n",
    "                        print(stop)\n",
    "                        if stop>10:\n",
    "                            assert best_metaparams is not None\n",
    "                            return best_metaparams\n",
    "\n",
    "    assert best_metaparams is not None\n",
    "    return best_metaparams"
   ]
  },
  {
   "cell_type": "code",
   "execution_count": 10,
   "id": "3da8f113-ee34-48e7-8aba-e1a401076516",
   "metadata": {},
   "outputs": [],
   "source": [
    "def store_metaparams(name, metaparams):\n",
    "    model_directory.mkdir(parents=True, exist_ok=True)\n",
    "    with open(model_directory/f\"metaparams_{name}.pickle\", \"wb\") as fh:\n",
    "        pickle.dump(metaparams, fh)"
   ]
  },
  {
   "cell_type": "code",
   "execution_count": 11,
   "id": "850b6831-3334-4f84-af5d-8b94017f096f",
   "metadata": {},
   "outputs": [],
   "source": [
    "def run_modelling_process(raw_data:pd.DataFrame) -> dict:\n",
    "    \"\"\"\n",
    "    Prepare the data\n",
    "    Run the process to find the best model\n",
    "    Store the model as a Pickle-File\n",
    "    \"\"\"\n",
    "    dataset = prepare_raw_data(raw_data)\n",
    "\n",
    "    for name, data in dataset.items():\n",
    "        series = data.transformed_values\n",
    "        acf_lag, pacf_lag = get_acf_and_pacf_lags(name, series)\n",
    "        best_metaparams = find_best_metaparams(name, series, acf_lag, pacf_lag)\n",
    "        data.metaparams = best_metaparams\n",
    "        store_metaparams(name, data.metaparams)\n",
    "    \n",
    "    return dataset"
   ]
  },
  {
   "cell_type": "code",
   "execution_count": 12,
   "id": "90c11dcd-686a-432c-a0b9-5474cd15c6a7",
   "metadata": {},
   "outputs": [],
   "source": [
    "def manually_test_model(raw_data:pd.DataFrame, energy_type:str, p:int, q:int):\n",
    "    \"\"\"\n",
    "    Check other parameters for a single energy_type manually\n",
    "    \"\"\"\n",
    "\n",
    "    dataset = prepare_raw_data(raw_data)\n",
    "    data = dataset[energy_type]\n",
    "  \n",
    "    meta_parameters = find_best_meta_params(energy_type, data, p, q)\n",
    "    \n",
    "    print(f'AIC: {model[\"aic\"]}\\nMSE: {model[\"mse\"]}')\n",
    "    return model"
   ]
  },
  {
   "cell_type": "markdown",
   "id": "1e351eba-c07e-4558-b8c6-edaee8779d4b",
   "metadata": {},
   "source": [
    "_________________"
   ]
  },
  {
   "cell_type": "markdown",
   "id": "e3c05b95-3cfe-4bb7-a14d-b9543c6d90b7",
   "metadata": {},
   "source": [
    "## Test Model"
   ]
  },
  {
   "cell_type": "code",
   "execution_count": 13,
   "id": "82ac3a2b-9d18-4b82-88d6-8f7017e49cf8",
   "metadata": {},
   "outputs": [],
   "source": [
    "def load_metaparams_local():\n",
    "    metaparams = dict()\n",
    "    energy_types = [\"solar\", \"nuclear\", \"wind\", \"water_river\", \"water_pump\", \"water_reservoir\"]\n",
    "    for type in energy_types:\n",
    "        with open(model_directory/f'metaparams_{type}.pickle', 'rb') as file:\n",
    "            metaparam = pickle.load(file)\n",
    "            metaparams[type] = metaparam\n",
    "    return metaparams"
   ]
  },
  {
   "cell_type": "code",
   "execution_count": 14,
   "id": "84f80888-3324-4738-93c6-6582a40f3b17",
   "metadata": {},
   "outputs": [],
   "source": [
    "def model_testing(raw_data):\n",
    "    metaparams = load_metaparams_local()\n",
    "    splitpoint = pd.Timestamp(\"2022-01-01\",tz=\"UTC\")\n",
    "\n",
    "    dataset = prepare_raw_data(raw_data)\n",
    "    for name, value in dataset.items():\n",
    "        value.transformed_values = value.transformed_values.resample(\"W\").mean()\n",
    "        value.training_values = value.transformed_values.loc[:splitpoint]\n",
    "        value.test_values = value.transformed_values.loc[splitpoint:]\n",
    "        \n",
    "        training_series = values.training_values\n",
    "        params = metaparams[name]\n",
    "        values.test_model = SARIMAX_model(training_series, params[\"p\"], params[\"d\"], params[\"q\"], params[\"trend\"])\n",
    "        print(f'Model for {name} is done')\n",
    "\n",
    "        test_series = values.test_values\n",
    "        model = values.test_model\n",
    "    \n",
    "        # Vor 2023-07: 1 Week ahead (single-step-prediction), nachher dynamische prediction\n",
    "        # Wenn beim Plot die blaue Linie im grünen Bereich liegt, ist es gut.\n",
    "        pedge = series.loc[:\"2023-07\"].index[-1]\n",
    "        \n",
    "        forecast = model.extend(test_series).get_prediction(dynamic=pedge)\n",
    "    \n",
    "        forecast_ci = forecast.conf_int()\n",
    "        \n",
    "        # Graph\n",
    "        fig, ax = plt.subplots(figsize=(9,4))\n",
    "        ax.set(title=values.name)\n",
    "        \n",
    "        \n",
    "        # Plot data points\n",
    "        series.plot(ax=ax,label='Observed')\n",
    "        \n",
    "        # Plot predictions\n",
    "        forecast.predicted_mean.plot(ax=ax, style='g', label=f'Forecast (dynamic from {pedge:%Y-%m-%d})')\n",
    "        ci = forecast_ci\n",
    "        ax.fill_between(ci.index, ci.iloc[:,0], ci.iloc[:,1], color='g', alpha=0.1)\n",
    "        ax.axvline(pedge,color=\"orange\")\n",
    "        \n",
    "        legend = ax.legend(loc='lower right')"
   ]
  },
  {
   "cell_type": "markdown",
   "id": "743965ba-79ed-495b-88a3-05637122499f",
   "metadata": {},
   "source": [
    "____________________"
   ]
  },
  {
   "cell_type": "markdown",
   "id": "e88f18f0-d088-4530-bbcd-e0ed4dfaa34c",
   "metadata": {},
   "source": [
    "## Create Production-Model"
   ]
  },
  {
   "cell_type": "code",
   "execution_count": 26,
   "id": "90e44f40-7f1a-419b-8d60-81d899b420bc",
   "metadata": {},
   "outputs": [],
   "source": [
    "def create_production_model(raw_data):\n",
    "    \"\"\"\n",
    "    Create model with the stored Meta-Params and the full Dataset\n",
    "    Store model locally\n",
    "    \"\"\"\n",
    "    dataset = prepare_raw_data(raw_data)\n",
    "    metaparams = load_metaparams_local()\n",
    "    \n",
    "    for name, values in dataset.items():\n",
    "        series = values.transformed_values\n",
    "        params = metaparams[name]\n",
    "        \n",
    "        model = statsmodels.api.tsa.statespace.SARIMAX(\n",
    "            series,\n",
    "            trend=params[\"trend\"],\n",
    "            order=(params[\"p\"], params[\"d\"], params[\"q\"]),\n",
    "            seasonal_order=(1,1,0,52),\n",
    "        )\n",
    "        values.production_model =  model.fit(disp=False)\n",
    "        print(f'Model for {name} is caluclated')\n",
    "    \n",
    "        model_directory.mkdir(parents=True, exist_ok=True)\n",
    "        with open(model_directory/f\"model_{name}.pickle\", \"wb\") as fh:\n",
    "            pickle.dump(values, fh)\n",
    "        print(f'Model for {name} is stored')\n",
    "      \n",
    "    return dataset"
   ]
  },
  {
   "cell_type": "code",
   "execution_count": 27,
   "id": "14d48bff-9a70-4232-96be-765adccfb8df",
   "metadata": {},
   "outputs": [
    {
     "name": "stdout",
     "output_type": "stream",
     "text": [
      "Model for wind is caluclated\n",
      "Model for wind is stored\n",
      "Model for solar is caluclated\n",
      "Model for solar is stored\n",
      "Model for nuclear is caluclated\n",
      "Model for nuclear is stored\n",
      "Model for water_reservoir is caluclated\n",
      "Model for water_reservoir is stored\n",
      "Model for water_river is caluclated\n",
      "Model for water_river is stored\n",
      "Model for water_pump is caluclated\n",
      "Model for water_pump is stored\n"
     ]
    }
   ],
   "source": [
    "dataset = create_production_model(energy_data)"
   ]
  },
  {
   "cell_type": "code",
   "execution_count": 28,
   "id": "905efcd1-59c6-40fa-bad9-2d49af0d8ed1",
   "metadata": {},
   "outputs": [],
   "source": [
    "def load_production_model_local():\n",
    "    models = dict()\n",
    "    energy_types = [\"solar\", \"nuclear\", \"wind\", \"water_river\", \"water_pump\", \"water_reservoir\"]\n",
    "    for type in energy_types:\n",
    "        with open(model_directory/f'model_{type}.pickle', 'rb') as file:\n",
    "            model = pickle.load(file)\n",
    "            models[type] = model\n",
    "    return models"
   ]
  },
  {
   "cell_type": "code",
   "execution_count": 31,
   "id": "cdb27248-253c-4260-b57f-ec1ea826eaab",
   "metadata": {
    "scrolled": true
   },
   "outputs": [],
   "source": [
    "models = load_production_model_local()"
   ]
  },
  {
   "cell_type": "code",
   "execution_count": 34,
   "id": "ddf15a06-be2c-41fe-bdbd-b4e66ed7ebb8",
   "metadata": {
    "scrolled": true
   },
   "outputs": [],
   "source": [
    "energy_types = [\"wind\", \"Nuclear\"]"
   ]
  },
  {
   "cell_type": "code",
   "execution_count": 32,
   "id": "e1d7bbe9-c88d-43bb-b228-6d54e44f2eaa",
   "metadata": {},
   "outputs": [],
   "source": [
    "def plot_forecast(models, energy_types, forecast_horizon):\n",
    "\n",
    "    forecast_dataset = dict()\n",
    "    \n",
    "    for name in energy_types:\n",
    "        forecast_dataset[name]=models[name.lower()]\n",
    "    \n",
    "    for name, values in forecast_dataset.items():\n",
    "        series = values.transformed_values    \n",
    "        forecast = values.production_model.apply(series).get_forecast(steps=forecast_horizon)\n",
    "        forecast_ci = forecast.conf_int()\n",
    "        \n",
    "        # Graph\n",
    "        fig, ax = plt.subplots(figsize=(9,4))\n",
    "        ax.set(title=values.name)\n",
    "            \n",
    "        # Plot data points\n",
    "        plot_start = series.index[-1]-pd.Timedelta(days=500)\n",
    "        \n",
    "        series.loc[plot_start:].plot(ax=ax,label='Observed')\n",
    "        \n",
    "        # Plot predictions\n",
    "        mean = pd.concat([series.iloc[-1:],forecast.predicted_mean])\n",
    "        lo = pd.concat([series.iloc[-1:],forecast_ci.iloc[:,0]])\n",
    "        hi = pd.concat([series.iloc[-1:],forecast_ci.iloc[:,1]])\n",
    "        mean.plot(ax=ax, style='g', label=f'Forecast')\n",
    "        ax.fill_between(lo.index, lo, hi, color='g', alpha=0.1)\n",
    "        \n",
    "        legend = ax.legend(loc='lower right')"
   ]
  },
  {
   "cell_type": "code",
   "execution_count": 35,
   "id": "0d1f1c7b-8be0-44e0-b391-a692a61d0c56",
   "metadata": {},
   "outputs": [
    {
     "data": {
      "image/png": "[encoded data removed]",
      "text/plain": [
       "<Figure size 900x400 with 1 Axes>"
      ]
     },
     "metadata": {},
     "output_type": "display_data"
    },
    {
     "data": {
      "image/png": "[encoded data removed]",
      "text/plain": [
       "<Figure size 900x400 with 1 Axes>"
      ]
     },
     "metadata": {},
     "output_type": "display_data"
    }
   ],
   "source": [
    "plot_forecast(models, energy_types, 30)"
   ]
  },
  {
   "cell_type": "code",
   "execution_count": null,
   "id": "3a8d4c23-d67c-4a41-b7b0-ba7a01c38226",
   "metadata": {},
   "outputs": [],
   "source": []
  },
  {
   "cell_type": "code",
   "execution_count": null,
   "id": "2ae0def5-260b-43ba-9028-b838aaae0cb9",
   "metadata": {},
   "outputs": [],
   "source": []
  }
 ],
 "metadata": {
  "kernelspec": {
   "display_name": "Python 3 (ipykernel)",
   "language": "python",
   "name": "python3"
  },
  "language_info": {
   "codemirror_mode": {
    "name": "ipython",
    "version": 3
   },
   "file_extension": ".py",
   "mimetype": "text/x-python",
   "name": "python",
   "nbconvert_exporter": "python",
   "pygments_lexer": "ipython3",
   "version": "3.11.4"
  }
 },
 "nbformat": 4,
 "nbformat_minor": 5
}
