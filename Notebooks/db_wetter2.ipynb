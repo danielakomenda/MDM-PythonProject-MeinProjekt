{
 "cells": [
  {
   "cell_type": "code",
   "execution_count": 1,
   "id": "c59665da-e6c8-44b2-9f5a-db28f1eb4c4f",
   "metadata": {},
   "outputs": [],
   "source": [
    "import os\n",
    "import dotenv\n",
    "\n",
    "import pymongo\n",
    "import pandas as pd"
   ]
  },
  {
   "cell_type": "code",
   "execution_count": 2,
   "id": "34b86bb5-9c9d-41f8-935d-954fb88ec438",
   "metadata": {},
   "outputs": [],
   "source": [
    "def connect_to_db():\n",
    "    \"\"\"Open the connection to the DB and return the collection\n",
    "    Create collection with unique index, if there is not yet one\"\"\"\n",
    "    # Load environment variables from .env file\n",
    "    dotenv.load_dotenv()\n",
    "    \n",
    "    # Get MongoDB-URI\n",
    "    mongodb_uri = os.getenv(\"MONGODB_URI\")\n",
    "    DBclient = pymongo.MongoClient(mongodb_uri)\n",
    "    db = DBclient[\"MDM-Python-MeinProjekt\"]\n",
    "\n",
    "    return db[\"Wetter\"]"
   ]
  },
  {
   "cell_type": "code",
   "execution_count": 6,
   "id": "634088af-8a6b-40ce-86a2-be4ff6c7b358",
   "metadata": {},
   "outputs": [],
   "source": [
    "def extract_daily_average_weather():\n",
    "\n",
    "    collection = connect_to_db()\n",
    "    \n",
    "    pipeline = [\n",
    "        {\n",
    "            '$addFields': {\n",
    "                'date': {\n",
    "                    '$substr': [\n",
    "                        '$datetime', 0, 10\n",
    "                    ]\n",
    "                }\n",
    "            }\n",
    "        }, \n",
    "        {\n",
    "            '$group': {\n",
    "                '_id': '$date', \n",
    "                'avg_temp': {\n",
    "                    '$avg': '$temp_C'\n",
    "                }, \n",
    "                'min_temp': {\n",
    "                    '$min': '$temp_C'\n",
    "                }, \n",
    "                'max_temp': {\n",
    "                    '$max': '$temp_C'\n",
    "                }, \n",
    "                'rain': {\n",
    "                    '$avg': '$rain_mm'\n",
    "                }, \n",
    "                'wind_speed': {\n",
    "                    '$avg': '$wind_kmh'\n",
    "                }, \n",
    "                'clouds': {\n",
    "                    '$avg': '$cloud_percent'\n",
    "                }\n",
    "            }\n",
    "        }\n",
    "    ]\n",
    "    \n",
    "    \n",
    "    results = []\n",
    "    for x in collection.aggregate(pipeline):\n",
    "        results.append(x)\n",
    "    \n",
    "    df = pd.DataFrame(results)\n",
    "    df = df.set_index(\"_id\")\n",
    "    df = df.sort_index()\n",
    "    df.index = df.index.rename(\"date\")\n",
    "    df[\"wind_speed\"] /= 3.6\n",
    "    df[\"wind_power\"] = df['wind_speed']**3\n",
    "\n",
    "    return df"
   ]
  },
  {
   "cell_type": "code",
   "execution_count": null,
   "id": "85b54b87-abe0-4fd4-9de7-17b7c00eb055",
   "metadata": {},
   "outputs": [],
   "source": []
  }
 ],
 "metadata": {
  "kernelspec": {
   "display_name": "Python 3 (ipykernel)",
   "language": "python",
   "name": "python3"
  },
  "language_info": {
   "codemirror_mode": {
    "name": "ipython",
    "version": 3
   },
   "file_extension": ".py",
   "mimetype": "text/x-python",
   "name": "python",
   "nbconvert_exporter": "python",
   "pygments_lexer": "ipython3",
   "version": "3.11.4"
  }
 },
 "nbformat": 4,
 "nbformat_minor": 5
}
