{
 "cells": [
  {
   "cell_type": "code",
   "execution_count": 1,
   "id": "c59665da-e6c8-44b2-9f5a-db28f1eb4c4f",
   "metadata": {},
   "outputs": [],
   "source": [
    "import os\n",
    "import dotenv\n",
    "\n",
    "import pymongo\n",
    "import pandas as pd"
   ]
  },
  {
   "cell_type": "code",
   "execution_count": 2,
   "id": "8f760aa4-852b-4c6e-a5d9-9dc8136a90a2",
   "metadata": {},
   "outputs": [],
   "source": [
    "def connect_to_db_Wetter_Durchschnitt():\n",
    "    # Load environment variables from .env file\n",
    "    dotenv.load_dotenv()\n",
    "    \n",
    "    # Get MongoDB-URI\n",
    "    mongodb_uri = os.getenv(\"MONGODB_URI\")\n",
    "    DBclient = pymongo.MongoClient(mongodb_uri)\n",
    "    db = DBclient[\"MDM-Python-MeinProjekt\"]\n",
    "\n",
    "    if \"Wetter_Durchschnitt\" in db.list_collection_names():\n",
    "        return db[\"Wetter_Durchschnitt\"]\n",
    "    else:\n",
    "        collection = db[\"Wetter_Durchschnitt\"]\n",
    "        collection.create_index([\n",
    "            (\"date\", pymongo.ASCENDING),\n",
    "        ], unique=True)\n",
    "        return collection"
   ]
  },
  {
   "cell_type": "code",
   "execution_count": 1,
   "id": "6562eb43-cc3d-40fe-b3cd-66b7fe422c7f",
   "metadata": {},
   "outputs": [],
   "source": [
    "def extract_daily_average_weather():\n",
    "\n",
    "    collection = connect_to_db_Wetter_Durchschnitt()\n",
    "    \n",
    "    pipeline = [\n",
    "      {\n",
    "        '$project': {\n",
    "          '_id': False,\n",
    "          'date': \"$date\",\n",
    "          'avg_temp': \"$avg_temp\",\n",
    "          'min_temp': \"$min_temp\",\n",
    "          'max_temp': \"$max_temp\",\n",
    "          'rain': \"$rain\",\n",
    "          'wind_speed': \"$wind_speed\",\n",
    "          'clouds': \"$clouds\",\n",
    "        },\n",
    "      },\n",
    "    ]\n",
    "    \n",
    "    \n",
    "    results = []\n",
    "    for x in collection.aggregate(pipeline):\n",
    "        results.append(x)\n",
    "    \n",
    "    df = pd.DataFrame(results)\n",
    "    df = df.set_index(\"date\")\n",
    "    df = df.set_index(pd.to_datetime(df.index).tz_localize(\"UTC\"))\n",
    "    df = df.sort_index()\n",
    "\n",
    "    return df"
   ]
  },
  {
   "cell_type": "code",
   "execution_count": 62,
   "id": "f858edff-d6ab-4924-a3c7-68f3bd49d926",
   "metadata": {},
   "outputs": [],
   "source": [
    "df = extract_average_weather()\n",
    "df"
   ]
  },
  {
   "cell_type": "code",
   "execution_count": null,
   "id": "abf90720-f456-4b78-b2d7-dc78e084d865",
   "metadata": {},
   "outputs": [],
   "source": []
  }
 ],
 "metadata": {
  "kernelspec": {
   "display_name": "Python 3 (ipykernel)",
   "language": "python",
   "name": "python3"
  },
  "language_info": {
   "codemirror_mode": {
    "name": "ipython",
    "version": 3
   },
   "file_extension": ".py",
   "mimetype": "text/x-python",
   "name": "python",
   "nbconvert_exporter": "python",
   "pygments_lexer": "ipython3",
   "version": "3.11.4"
  }
 },
 "nbformat": 4,
 "nbformat_minor": 5
}
