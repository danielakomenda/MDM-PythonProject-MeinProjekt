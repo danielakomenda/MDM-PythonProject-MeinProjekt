{
 "cells": [
  {
   "cell_type": "code",
   "execution_count": 68,
   "id": "362a80bf-818b-45be-a73e-1b1beb3b4145",
   "metadata": {},
   "outputs": [],
   "source": [
    "import datetime\n",
    "import datetime\n",
    "from pathlib import Path\n",
    "from types import SimpleNamespace\n",
    "import pickle\n",
    "import os\n",
    "import dotenv\n",
    "\n",
    "from azure.storage.blob import BlobServiceClient\n",
    "import pandas as pd\n",
    "import numpy as np\n",
    "import matplotlib.pyplot as plt\n",
    "import scipy\n",
    "import seaborn\n",
    "import sklearn\n",
    "import sklearn.metrics\n",
    "import sklearn.cross_decomposition\n",
    "import sklearn.linear_model\n",
    "import statsmodels\n",
    "import statsmodels.api\n",
    "import warnings"
   ]
  },
  {
   "cell_type": "code",
   "execution_count": 69,
   "id": "f637ac70-af31-4a65-a6ad-e37796c9794f",
   "metadata": {},
   "outputs": [],
   "source": [
    "import sys\n",
    "sys.path.append(\"/Users/missd/Desktop/6. Semester/6. Model Deployment Maintenance/MDM - Python Projekt/src/\")"
   ]
  },
  {
   "cell_type": "code",
   "execution_count": 70,
   "id": "923db17e-1e72-4025-9e48-f9aff0d5e478",
   "metadata": {},
   "outputs": [],
   "source": [
    "import mdm_python.data.db_entsoe as db_entsoe\n",
    "import mdm_python.data.create_model as energy_model"
   ]
  },
  {
   "cell_type": "code",
   "execution_count": 71,
   "id": "6e9dc454-b6c1-422b-bb57-9d35e592c812",
   "metadata": {},
   "outputs": [],
   "source": [
    "model_directory = Path(\"../data/models\").resolve()\n",
    "plot_directory = Path(\"../src/mdm_python/backend_server/static/pictures\").resolve()"
   ]
  },
  {
   "cell_type": "code",
   "execution_count": 72,
   "id": "9cb33e29-89e2-4fa7-a2a1-10d148f76985",
   "metadata": {},
   "outputs": [],
   "source": [
    "def connect_to_azure():\n",
    "    # Load environment variables from .env file\n",
    "    dotenv.load_dotenv()\n",
    "    \n",
    "    # Get Azure-Connection-STring\n",
    "    azure_connection_string = os.getenv(\"AZURE_STORAGE_CONNECTION_STRING\")\n",
    "    return azure_connection_string"
   ]
  },
  {
   "cell_type": "code",
   "execution_count": 65,
   "id": "92554d3f-be05-4916-8864-bf0bd2fdf7fb",
   "metadata": {},
   "outputs": [],
   "source": [
    "def load_models():\n",
    "    azure_connection_string = connect_to_azure()\n",
    "    blob_service_client = BlobServiceClient.from_connection_string(azure_connection_string)\n",
    "\n",
    "    containers = blob_service_client.list_containers(include_metadata=True)\n",
    "    suffix = 0\n",
    "    for container in containers:\n",
    "        existingContainerName = container['name']\n",
    "        if existingContainerName.startswith(\"energy-model\"):\n",
    "            parts = existingContainerName.split(\"-\")\n",
    "            newSuffix = int(parts[-1])\n",
    "            if newSuffix > suffix:\n",
    "                suffix = newSuffix\n",
    "\n",
    "    container_name = f\"energy-model-{suffix}\"\n",
    "    print(f'loading from container: {container_name}')\n",
    "\n",
    "\n",
    "    container_client = blob_service_client.get_container_client(container_name)\n",
    "    blob_list = container_client.list_blobs()\n",
    "\n",
    "    models = dict()\n",
    "    for blob in blob_list:\n",
    "        print(\"\\t\" + blob.name)\n",
    "        content = container_client.download_blob(blob.name).readall()\n",
    "        model = pickle.loads(content)\n",
    "        models[blob.name]=model[\"fitted_model\"]\n",
    "\n",
    "    print(models)\n",
    "    return models"
   ]
  },
  {
   "cell_type": "code",
   "execution_count": 66,
   "id": "b6b9e925-f2a2-4007-aeb2-58748c17c3e7",
   "metadata": {
    "scrolled": true
   },
   "outputs": [
    {
     "ename": "NameError",
     "evalue": "name 'dotenv' is not defined",
     "output_type": "error",
     "traceback": [
      "\u001b[0;31m---------------------------------------------------------------------------\u001b[0m",
      "\u001b[0;31mNameError\u001b[0m                                 Traceback (most recent call last)",
      "Cell \u001b[0;32mIn[66], line 1\u001b[0m\n\u001b[0;32m----> 1\u001b[0m models \u001b[38;5;241m=\u001b[39m \u001b[43mload_models\u001b[49m\u001b[43m(\u001b[49m\u001b[43m)\u001b[49m\n",
      "Cell \u001b[0;32mIn[65], line 2\u001b[0m, in \u001b[0;36mload_models\u001b[0;34m()\u001b[0m\n\u001b[1;32m      1\u001b[0m \u001b[38;5;28;01mdef\u001b[39;00m \u001b[38;5;21mload_models\u001b[39m():\n\u001b[0;32m----> 2\u001b[0m     azure_connection_string \u001b[38;5;241m=\u001b[39m \u001b[43mconnect_to_azure\u001b[49m\u001b[43m(\u001b[49m\u001b[43m)\u001b[49m\n\u001b[1;32m      3\u001b[0m     blob_service_client \u001b[38;5;241m=\u001b[39m BlobServiceClient\u001b[38;5;241m.\u001b[39mfrom_connection_string(azure_connection_string)\n\u001b[1;32m      5\u001b[0m     containers \u001b[38;5;241m=\u001b[39m blob_service_client\u001b[38;5;241m.\u001b[39mlist_containers(include_metadata\u001b[38;5;241m=\u001b[39m\u001b[38;5;28;01mTrue\u001b[39;00m)\n",
      "Cell \u001b[0;32mIn[62], line 3\u001b[0m, in \u001b[0;36mconnect_to_azure\u001b[0;34m()\u001b[0m\n\u001b[1;32m      1\u001b[0m \u001b[38;5;28;01mdef\u001b[39;00m \u001b[38;5;21mconnect_to_azure\u001b[39m():\n\u001b[1;32m      2\u001b[0m     \u001b[38;5;66;03m# Load environment variables from .env file\u001b[39;00m\n\u001b[0;32m----> 3\u001b[0m     \u001b[43mdotenv\u001b[49m\u001b[38;5;241m.\u001b[39mload_dotenv()\n\u001b[1;32m      5\u001b[0m     \u001b[38;5;66;03m# Get Azure-Connection-STring\u001b[39;00m\n\u001b[1;32m      6\u001b[0m     azure_connection_string \u001b[38;5;241m=\u001b[39m os\u001b[38;5;241m.\u001b[39mgetenv(\u001b[38;5;124m\"\u001b[39m\u001b[38;5;124mAZURE_STORAGE_CONNECTION_STRING\u001b[39m\u001b[38;5;124m\"\u001b[39m)\n",
      "\u001b[0;31mNameError\u001b[0m: name 'dotenv' is not defined"
     ]
    }
   ],
   "source": [
    "models = load_models()"
   ]
  },
  {
   "cell_type": "code",
   "execution_count": 60,
   "id": "f4a98220-397f-4a47-b4ad-2946595bb349",
   "metadata": {},
   "outputs": [
    {
     "data": {
      "text/plain": [
       "(<statsmodels.tsa.arima.model.ARIMAResultsWrapper at 0x28aa5ba10>,)"
      ]
     },
     "execution_count": 60,
     "metadata": {},
     "output_type": "execute_result"
    }
   ],
   "source": [
    "models['wind.pickle']"
   ]
  },
  {
   "cell_type": "code",
   "execution_count": null,
   "id": "1128fa6a-1c2c-4027-afb6-9caf3cc5fcfd",
   "metadata": {},
   "outputs": [],
   "source": []
  },
  {
   "cell_type": "code",
   "execution_count": null,
   "id": "ad6ee3db-bb61-44a3-a32b-b41db843f852",
   "metadata": {},
   "outputs": [],
   "source": []
  },
  {
   "cell_type": "code",
   "execution_count": 5,
   "id": "d3043ad4-fc22-43bf-a04a-22366699394a",
   "metadata": {},
   "outputs": [],
   "source": [
    "energy_data = db_entsoe.extract_daily_energy()"
   ]
  },
  {
   "cell_type": "code",
   "execution_count": 20,
   "id": "67e27a09-0094-4b11-adb5-43e7ac13919f",
   "metadata": {},
   "outputs": [],
   "source": [
    "def energy_forecast(raw_data, energy_type, model, forecast_horizon):\n",
    "\n",
    "    data_set = energy_model.prepare_raw_data(raw_data)\n",
    "    data_set = energy_model.detrend_and_deseasonalize_data(data_set)\n",
    "    \n",
    "    p, d, q = model[\"model\"].order\n",
    "    \n",
    "    modelling = energy_model.ARIMA_model(data_set[energy_type].detrended_values, p, 0, q)\n",
    "    forecast = modelling.get_forecast(steps=forecast_horizon).summary_frame()\n",
    "\n",
    "    baseline = data_set[energy_type].baseline.iloc[-1]\n",
    "\n",
    "    offset = data_set[energy_type].offset\n",
    "    untransform = lambda v: 10**(v-offset) if offset is not None else v\n",
    "    \n",
    "    forecast_df = pd.DataFrame(index=forecast.index, data={\n",
    "        energy_type:untransform(forecast[\"mean\"] + baseline),\n",
    "        f\"lower_{energy_type}\":untransform(forecast[\"mean_ci_lower\"] + baseline),\n",
    "        f\"upper_{energy_type}\":untransform(forecast[\"mean_ci_upper\"] + baseline),\n",
    "    })\n",
    "    \n",
    "    return forecast_df"
   ]
  },
  {
   "cell_type": "code",
   "execution_count": 21,
   "id": "85f661d1-e774-4926-b6c7-c8f1f8c7eb09",
   "metadata": {},
   "outputs": [],
   "source": [
    "def plot_forecast(raw_data, energy_types, models, forecast_horizon):\n",
    "    plot_paths = {}\n",
    "\n",
    "    for energy_type in energy_types:\n",
    "        \n",
    "        model = models[energy_type]\n",
    "        \n",
    "        forecast_df = energy_forecast(raw_data=raw_data, energy_type=energy_type, model=model, forecast_horizon=forecast_horizon)\n",
    "        \n",
    "        # Plot the observed data\n",
    "        plt.figure(figsize=(10, 6))\n",
    "        plt.plot(raw_data.index, raw_data[energy_type], label=f'Observed {energy_type}', color='blue')\n",
    "        \n",
    "        # Plot the forecasted values\n",
    "        plt.plot(forecast_df.index, forecast_df[energy_type], label=f'Forecasted {energy_type}', color='red')\n",
    "        \n",
    "        # Add shades for uncertainty intervals\n",
    "        plt.fill_between(forecast_df.index, forecast_df[f'lower_{energy_type}'], forecast_df[f'upper_{energy_type}'], color='lightcoral', alpha=0.3)\n",
    "        \n",
    "        # Add labels, legend, and title\n",
    "        plt.xlabel('Date')\n",
    "        plt.ylabel('Value')\n",
    "        plt.title(f'Observed and Forecasted Data with Confidence Intervals for {energy_type}')\n",
    "        plt.legend()\n",
    "        plt.grid(True)\n",
    "\n",
    "        # Define the path for saving the plot\n",
    "        plot_path = plot_directory/f\"{energy_type}_forecast.png\"\n",
    "\n",
    "        # Save the plot\n",
    "        plt.savefig(plot_path)\n",
    "        plt.close()  # Important to free memory\n",
    "\n",
    "        # Store the relative or absolute path in the dictionary\n",
    "        plot_paths[energy_type] = plot_path\n",
    "\n",
    "    return plot_paths"
   ]
  },
  {
   "cell_type": "code",
   "execution_count": 13,
   "id": "c9bccd40-a31e-4a61-a581-029314d4a837",
   "metadata": {},
   "outputs": [],
   "source": [
    "energy_types = [\"wind\", \"solar\", \"nuclear\"]"
   ]
  },
  {
   "cell_type": "code",
   "execution_count": 19,
   "id": "61eaa662-e865-4a2a-a71f-59089c61a81b",
   "metadata": {
    "scrolled": true
   },
   "outputs": [
    {
     "data": {
      "text/plain": [
       "{'wind': PosixPath('/Users/missd/Desktop/6. Semester/6. Model Deployment Maintenance/MDM - Python Projekt/src/mdm_python/backend_server/static/pictures/wind_forecast.png'),\n",
       " 'solar': PosixPath('/Users/missd/Desktop/6. Semester/6. Model Deployment Maintenance/MDM - Python Projekt/src/mdm_python/backend_server/static/pictures/solar_forecast.png'),\n",
       " 'nuclear': PosixPath('/Users/missd/Desktop/6. Semester/6. Model Deployment Maintenance/MDM - Python Projekt/src/mdm_python/backend_server/static/pictures/nuclear_forecast.png')}"
      ]
     },
     "execution_count": 19,
     "metadata": {},
     "output_type": "execute_result"
    }
   ],
   "source": [
    "plot_forecast(energy_data, energy_types, 300)"
   ]
  },
  {
   "cell_type": "code",
   "execution_count": null,
   "id": "5e9f6847-a90c-4aef-ba2f-30ed49e5c6a7",
   "metadata": {},
   "outputs": [],
   "source": []
  }
 ],
 "metadata": {
  "kernelspec": {
   "display_name": "Python 3 (ipykernel)",
   "language": "python",
   "name": "python3"
  },
  "language_info": {
   "codemirror_mode": {
    "name": "ipython",
    "version": 3
   },
   "file_extension": ".py",
   "mimetype": "text/x-python",
   "name": "python",
   "nbconvert_exporter": "python",
   "pygments_lexer": "ipython3",
   "version": "3.11.4"
  }
 },
 "nbformat": 4,
 "nbformat_minor": 5
}
