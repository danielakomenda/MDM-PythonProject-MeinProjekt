{
 "cells": [
  {
   "cell_type": "code",
   "execution_count": 1,
   "id": "362a80bf-818b-45be-a73e-1b1beb3b4145",
   "metadata": {},
   "outputs": [],
   "source": [
    "import datetime\n",
    "import datetime\n",
    "from pathlib import Path\n",
    "from types import SimpleNamespace\n",
    "import pickle\n",
    "import os\n",
    "import dotenv\n",
    "\n",
    "from azure.storage.blob import BlobServiceClient\n",
    "import pandas as pd\n",
    "import numpy as np\n",
    "import matplotlib.pyplot as plt\n",
    "import scipy\n",
    "import seaborn\n",
    "import sklearn\n",
    "import sklearn.metrics\n",
    "import sklearn.cross_decomposition\n",
    "import sklearn.linear_model\n",
    "import statsmodels\n",
    "import statsmodels.api\n",
    "import warnings"
   ]
  },
  {
   "cell_type": "code",
   "execution_count": 2,
   "id": "f637ac70-af31-4a65-a6ad-e37796c9794f",
   "metadata": {},
   "outputs": [],
   "source": [
    "import sys\n",
    "sys.path.append(\"/Users/missd/Desktop/6. Semester/6. Model Deployment Maintenance/MDM - Python Projekt/src/\")"
   ]
  },
  {
   "cell_type": "code",
   "execution_count": 3,
   "id": "923db17e-1e72-4025-9e48-f9aff0d5e478",
   "metadata": {},
   "outputs": [],
   "source": [
    "import mdm_python.data.db_entsoe as db_entsoe\n",
    "import mdm_python.data.create_model as energy_model"
   ]
  },
  {
   "cell_type": "code",
   "execution_count": 4,
   "id": "6e9dc454-b6c1-422b-bb57-9d35e592c812",
   "metadata": {},
   "outputs": [],
   "source": [
    "model_directory = Path(\"../data/models\").resolve()\n",
    "plot_directory = Path(\"../src/mdm_python/backend_server/static/pictures\").resolve()"
   ]
  },
  {
   "cell_type": "code",
   "execution_count": 5,
   "id": "d3043ad4-fc22-43bf-a04a-22366699394a",
   "metadata": {},
   "outputs": [],
   "source": [
    "energy_data = db_entsoe.extract_daily_energy()"
   ]
  },
  {
   "cell_type": "code",
   "execution_count": 6,
   "id": "67e27a09-0094-4b11-adb5-43e7ac13919f",
   "metadata": {},
   "outputs": [],
   "source": [
    "def energy_forecast(raw_data, energy_type, model, forecast_horizon):\n",
    "\n",
    "    data_set = energy_model.prepare_raw_data(raw_data)\n",
    "    data_set = energy_model.detrend_and_deseasonalize_data(data_set)\n",
    "    \n",
    "    p, d, q = model.order\n",
    "    \n",
    "    modelling = energy_model.ARIMA_model(data_set[energy_type].detrended_values, p, 0, q)\n",
    "    forecast = modelling.get_forecast(steps=forecast_horizon).summary_frame()\n",
    "\n",
    "    baseline = data_set[energy_type].baseline.iloc[-1]\n",
    "\n",
    "    offset = data_set[energy_type].offset\n",
    "    untransform = lambda v: 10**(v-offset) if offset is not None else v\n",
    "    \n",
    "    forecast_df = pd.DataFrame(index=forecast.index, data={\n",
    "        energy_type:untransform(forecast[\"mean\"] + baseline),\n",
    "        f\"lower_{energy_type}\":untransform(forecast[\"mean_ci_lower\"] + baseline),\n",
    "        f\"upper_{energy_type}\":untransform(forecast[\"mean_ci_upper\"] + baseline),\n",
    "    })\n",
    "    \n",
    "    return forecast_df"
   ]
  },
  {
   "cell_type": "code",
   "execution_count": 7,
   "id": "85f661d1-e774-4926-b6c7-c8f1f8c7eb09",
   "metadata": {},
   "outputs": [],
   "source": [
    "def plot_forecast(raw_data, energy_types, models, forecast_horizon):\n",
    "    plot_paths = {}\n",
    "\n",
    "    for energy_type in energy_types:\n",
    "        \n",
    "        model = models[f'{energy_type}.pickle']\n",
    "        \n",
    "        forecast_df = energy_forecast(raw_data=raw_data, energy_type=energy_type, model=model, forecast_horizon=forecast_horizon)\n",
    "        \n",
    "        # Plot the observed data\n",
    "        plt.figure(figsize=(10, 6))\n",
    "        plt.plot(raw_data.index, raw_data[energy_type], label=f'Observed {energy_type}', color='blue')\n",
    "        \n",
    "        # Plot the forecasted values\n",
    "        plt.plot(forecast_df.index, forecast_df[energy_type], label=f'Forecasted {energy_type}', color='red')\n",
    "        \n",
    "        # Add shades for uncertainty intervals\n",
    "        plt.fill_between(forecast_df.index, forecast_df[f'lower_{energy_type}'], forecast_df[f'upper_{energy_type}'], color='lightcoral', alpha=0.3)\n",
    "        \n",
    "        # Add labels, legend, and title\n",
    "        plt.xlabel('Date')\n",
    "        plt.ylabel('Value')\n",
    "        plt.title(f'Observed and Forecasted Data with Confidence Intervals for {energy_type}')\n",
    "        plt.legend()\n",
    "        plt.grid(True)\n",
    "\n",
    "        # Define the path for saving the plot\n",
    "        plot_path = plot_directory/f\"{energy_type}_forecast.png\"\n",
    "\n",
    "        # Save the plot\n",
    "        plt.savefig(plot_path)\n",
    "        plt.close()  # Important to free memory\n",
    "\n",
    "        # Store the relative or absolute path in the dictionary\n",
    "        plot_paths[energy_type] = plot_path\n",
    "\n",
    "    return plot_paths"
   ]
  },
  {
   "cell_type": "code",
   "execution_count": 8,
   "id": "5e9f6847-a90c-4aef-ba2f-30ed49e5c6a7",
   "metadata": {},
   "outputs": [],
   "source": [
    "def load_models():\n",
    "    dotenv.load_dotenv()\n",
    "    azure_storage_connection_string=os.getenv(\"AZURE_STORAGE_CONNECTION_STRING\")\n",
    "    blob_service_client = BlobServiceClient.from_connection_string(azure_storage_connection_string)\n",
    "\n",
    "    containers = blob_service_client.list_containers(include_metadata=True)\n",
    "    suffix = 0\n",
    "    for container in containers:\n",
    "        existingContainerName = container['name']\n",
    "        if existingContainerName.startswith(\"energy-model\"):\n",
    "            parts = existingContainerName.split(\"-\")\n",
    "            newSuffix = int(parts[-1])\n",
    "            if newSuffix > suffix:\n",
    "                suffix = newSuffix\n",
    "\n",
    "    container_name = f\"energy-model-{suffix}\"\n",
    "    print(f'loading from container: {container_name}')\n",
    "\n",
    "\n",
    "    container_client = blob_service_client.get_container_client(container_name)\n",
    "    blob_list = container_client.list_blobs()\n",
    "\n",
    "    models = dict()\n",
    "    for blob in blob_list:\n",
    "        print(\"\\t\" + blob.name)\n",
    "        content = container_client.download_blob(blob.name).readall()\n",
    "        model = pickle.loads(content)\n",
    "        models[blob.name]=model[\"model\"]\n",
    "\n",
    "    print(models)\n",
    "    return models"
   ]
  },
  {
   "cell_type": "code",
   "execution_count": 11,
   "id": "e7d042c5-44a5-4da8-95b4-e6cf646193b7",
   "metadata": {},
   "outputs": [
    {
     "name": "stdout",
     "output_type": "stream",
     "text": [
      "loading from container: energy-model-6\n",
      "\tnuclear.pickle\n",
      "\tsolar.pickle\n",
      "\twater_pump.pickle\n",
      "\twater_reservoir.pickle\n",
      "\twater_river.pickle\n",
      "\twind.pickle\n",
      "{'nuclear.pickle': <statsmodels.tsa.arima.model.ARIMA object at 0x1578142d0>, 'solar.pickle': <statsmodels.tsa.arima.model.ARIMA object at 0x16a86f810>, 'water_pump.pickle': <statsmodels.tsa.arima.model.ARIMA object at 0x16a913650>, 'water_reservoir.pickle': <statsmodels.tsa.arima.model.ARIMA object at 0x157f41b10>, 'water_river.pickle': <statsmodels.tsa.arima.model.ARIMA object at 0x16ab16810>, 'wind.pickle': <statsmodels.tsa.arima.model.ARIMA object at 0x16aae3b50>}\n"
     ]
    }
   ],
   "source": [
    "models = load_models()\n",
    "energy_types = [\"solar\", \"nuclear\", \"wind\", \"water_river\", \"water_pump\", \"water_reservoir\"]\n",
    "\n",
    "plot_path = plot_forecast(energy_data, energy_types, models, 100)"
   ]
  },
  {
   "cell_type": "code",
   "execution_count": 12,
   "id": "7d2de639-487d-44bd-aea7-fc3d7c838372",
   "metadata": {},
   "outputs": [
    {
     "data": {
      "text/plain": [
       "{'solar': PosixPath('/Users/missd/Desktop/6. Semester/6. Model Deployment Maintenance/MDM - Python Projekt/src/mdm_python/backend_server/static/pictures/solar_forecast.png'),\n",
       " 'nuclear': PosixPath('/Users/missd/Desktop/6. Semester/6. Model Deployment Maintenance/MDM - Python Projekt/src/mdm_python/backend_server/static/pictures/nuclear_forecast.png'),\n",
       " 'wind': PosixPath('/Users/missd/Desktop/6. Semester/6. Model Deployment Maintenance/MDM - Python Projekt/src/mdm_python/backend_server/static/pictures/wind_forecast.png'),\n",
       " 'water_river': PosixPath('/Users/missd/Desktop/6. Semester/6. Model Deployment Maintenance/MDM - Python Projekt/src/mdm_python/backend_server/static/pictures/water_river_forecast.png'),\n",
       " 'water_pump': PosixPath('/Users/missd/Desktop/6. Semester/6. Model Deployment Maintenance/MDM - Python Projekt/src/mdm_python/backend_server/static/pictures/water_pump_forecast.png'),\n",
       " 'water_reservoir': PosixPath('/Users/missd/Desktop/6. Semester/6. Model Deployment Maintenance/MDM - Python Projekt/src/mdm_python/backend_server/static/pictures/water_reservoir_forecast.png')}"
      ]
     },
     "execution_count": 12,
     "metadata": {},
     "output_type": "execute_result"
    }
   ],
   "source": [
    "plot_path"
   ]
  },
  {
   "cell_type": "code",
   "execution_count": null,
   "id": "4bcca52c-86a9-4a2a-95fc-1462f2c5d304",
   "metadata": {},
   "outputs": [],
   "source": []
  }
 ],
 "metadata": {
  "kernelspec": {
   "display_name": "Python 3 (ipykernel)",
   "language": "python",
   "name": "python3"
  },
  "language_info": {
   "codemirror_mode": {
    "name": "ipython",
    "version": 3
   },
   "file_extension": ".py",
   "mimetype": "text/x-python",
   "name": "python",
   "nbconvert_exporter": "python",
   "pygments_lexer": "ipython3",
   "version": "3.11.4"
  }
 },
 "nbformat": 4,
 "nbformat_minor": 5
}
